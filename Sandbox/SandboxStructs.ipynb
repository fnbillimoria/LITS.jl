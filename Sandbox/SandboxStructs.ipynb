{
 "cells": [
  {
   "cell_type": "code",
   "execution_count": 1,
   "metadata": {},
   "outputs": [
    {
     "name": "stdout",
     "output_type": "stream",
     "text": [
      "/Users/rhenriquez/.julia/dev/LITS\n"
     ]
    }
   ],
   "source": [
    "; cd .."
   ]
  },
  {
   "cell_type": "code",
   "execution_count": 2,
   "metadata": {},
   "outputs": [
    {
     "name": "stdout",
     "output_type": "stream",
     "text": [
      "\u001b[32m\u001b[1mActivating\u001b[22m\u001b[39m environment at `~/.julia/dev/LITS/Project.toml`\n"
     ]
    }
   ],
   "source": [
    "] activate"
   ]
  },
  {
   "cell_type": "code",
   "execution_count": 3,
   "metadata": {},
   "outputs": [],
   "source": [
    "] instantiate"
   ]
  },
  {
   "cell_type": "code",
   "execution_count": 4,
   "metadata": {},
   "outputs": [
    {
     "data": {
      "text/plain": [
       "PowerSystems"
      ]
     },
     "execution_count": 4,
     "metadata": {},
     "output_type": "execute_result"
    }
   ],
   "source": [
    "using Revise\n",
    "using LITS\n",
    "import PowerSystems\n",
    "using Sundials\n",
    "const PSY = PowerSystems"
   ]
  },
  {
   "cell_type": "markdown",
   "metadata": {},
   "source": [
    "## Structs"
   ]
  },
  {
   "cell_type": "code",
   "execution_count": 5,
   "metadata": {},
   "outputs": [],
   "source": [
    "\"\"\"\n",
    "Parameters of an inner loop controller using a PI voltage controller and a PI current controller.\n",
    "\n",
    "#Arguments\n",
    "- `ω0::Float64`: Reference frequency in per unit.\n",
    "\"\"\"\n",
    "\n",
    "mutable struct NoPLL <: PSY.FrequencyEstimator\n",
    "    ω0::Float64\n",
    "    n_states::Int64\n",
    "    states::Vector{Symbol}\n",
    "    ext::Dict{String, Any}\n",
    "\n",
    "    function NoPLL(ω0, ext=Dict{String, Any}(), )\n",
    "        new(ω0, 0, Vector{Symbol}(), ext)\n",
    "    end\n",
    "\n",
    "end\n",
    "\n",
    "get_ω0(value::NoPLL) = value.ω0\n",
    "PSY.get_states(value::NoPLL) = value.states\n",
    "PSY.get_n_states(value::NoPLL) = value.n_states\n",
    "PSY.get_ext(value::NoPLL) = value.ext;"
   ]
  },
  {
   "cell_type": "code",
   "execution_count": 6,
   "metadata": {},
   "outputs": [],
   "source": [
    "\"\"\"\n",
    "Parameters of an inner loop controller using a PI voltage controller and a PI current controller.\n",
    "\n",
    "#Arguments\n",
    "- `kpv::Float64`: voltage controller proportional gain\n",
    "- `kiv::Float64`: voltage controller integral gain\n",
    "- `kffi::Float64`: Binary variable to enable feed-forward gain of current\n",
    "- `kpc::Float64`: current controller proportional gain, validation range\n",
    "- `kic::Float64`: current controller integral gain, validation range\n",
    "- `kffv::Float64`: Binary variable to enable feed-forward gain of voltage\n",
    "\"\"\"\n",
    "\n",
    "mutable struct PI_VoltageCurrent <: PSY.VSControl\n",
    "    kpv::Float64\n",
    "    kiv::Float64\n",
    "    kffi::Float64\n",
    "    kpc::Float64\n",
    "    kic::Float64\n",
    "    kffv::Float64\n",
    "    n_states::Int64\n",
    "    states::Vector{Symbol}\n",
    "    ext::Dict{String, Any}\n",
    "\n",
    "    function PI_VoltageCurrent(kpv, kiv, kffi, kpc, kic, kffv, ext=Dict{String, Any}(), )\n",
    "\n",
    "        states = [:ξ_d, :ξ_q, :γ_d, :γ_q]\n",
    "        n_states = 4\n",
    "\n",
    "        new(kpv, kiv, kffi, kpc, kic, kffv, n_states, states, ext)\n",
    "    end\n",
    "end\n",
    "\n",
    "PSY.get_kpv(value::PI_VoltageCurrent) = value.kpv\n",
    "PSY.get_kiv(value::PI_VoltageCurrent) = value.kiv\n",
    "PSY.get_kffi(value::PI_VoltageCurrent) = value.kffi\n",
    "PSY.get_kpc(value::PI_VoltageCurrent) = value.kpc\n",
    "PSY.get_kic(value::PI_VoltageCurrent) = value.kic\n",
    "PSY.get_kffv(value::PI_VoltageCurrent) = value.kffv\n",
    "PSY.get_states(value::PI_VoltageCurrent) = value.states\n",
    "PSY.get_n_states(value::PI_VoltageCurrent) = value.n_states\n",
    "PSY.get_ext(value::PI_VoltageCurrent) = value.ext;"
   ]
  },
  {
   "cell_type": "code",
   "execution_count": 7,
   "metadata": {},
   "outputs": [],
   "source": [
    "\"\"\"\n",
    "Parameters of an Active Power Droop Controller\n",
    "\n",
    "# Arguments\n",
    "- `d_ω::Float64`: Frequency-Power droop gain\n",
    "\"\"\"\n",
    "\n",
    "mutable struct PowerDroop <: PSY.ActivePowerControl\n",
    "    d_ω::Float64\n",
    "    n_states::Int64\n",
    "    states::Vector{Symbol}\n",
    "    ext::Dict{String, Any}\n",
    "    \n",
    "    function PowerDroop(d_ω, ext=Dict{String, Any}(),)\n",
    "        \n",
    "        new(d_ω, 1, [:δθ_vsm], ext) #TODO: I Used δθ_vsm for port issues. Replace with proper symbol. \n",
    "    end\n",
    "end\n",
    "\n",
    "get_d_ω(value::PowerDroop) = value.d_ω\n",
    "PSY.get_states(value::PowerDroop) = value.states\n",
    "PSY.get_n_states(value::PowerDroop) = value.n_states\n",
    "PSY.get_ext(value::PowerDroop) = value.ext;\n",
    "\n",
    "\"\"\"\n",
    "Parameters of a Virtual PI AVR.\n",
    "\n",
    "# Arguments\n",
    "- `kp_avr::Float64`: Proportional gain for AVR\n",
    "- `ki_avr::Float64`: Integral gain for AVR\n",
    "\"\"\"\n",
    "\n",
    "mutable struct Virtual_PI_AVR <: PSY.ReactivePowerControl\n",
    "    kp_avr::Float64\n",
    "    ki_avr::Float64\n",
    "    n_states::Int64\n",
    "    states::Vector{Symbol}\n",
    "    ext::Dict{String, Any}\n",
    "    \n",
    "    function Virtual_PI_AVR(kp_avr, ki_avr, ext=Dict{String, Any}(), )\n",
    "        \n",
    "        new(kp_avr, ki_avr, 1, [:x_avr], ext)\n",
    "    end\n",
    "end\n",
    "\n",
    "get_kp_avr(value::Virtual_PI_AVR) = value.kp_avr\n",
    "get_ki_avr(value::Virtual_PI_AVR) = value.ki_avr\n",
    "PSY.get_states(value::Virtual_PI_AVR) = value.states\n",
    "PSY.get_n_states(value::Virtual_PI_AVR) = value.n_states\n",
    "PSY.get_ext(value::Virtual_PI_AVR) = value.ext;"
   ]
  },
  {
   "cell_type": "code",
   "execution_count": 8,
   "metadata": {},
   "outputs": [
    {
     "data": {
      "text/plain": [
       "PowerSystems.AvgCnvFixedDC:\n",
       "   v_rated: 2440.0\n",
       "   s_rated: 100.0\n",
       "   ext: Dict{String,Any}()\n",
       "   states: Symbol[]\n",
       "   n_states: 0"
      ]
     },
     "execution_count": 8,
     "metadata": {},
     "output_type": "execute_result"
    }
   ],
   "source": [
    "## Inverter components\n",
    "nopll  = NoPLL(1.0)\n",
    "innerloop = PI_VoltageCurrent(\n",
    "    0.59, #kpv\n",
    "    232.0, #kiv\n",
    "    0.0, #kffi\n",
    "    0.73, #kpc\n",
    "    0.0059, #kic\n",
    "    0.0) #kffv\n",
    "pdroop = PowerDroop(2.0) #d_ω\n",
    "virtual_avr = Virtual_PI_AVR(\n",
    "    0.001, #kp_avr\n",
    "    0.05) #ki_avr\n",
    "outerloop = PSY.VirtualInertiaQdroop(pdroop, virtual_avr)\n",
    "filter_test = PSY.LCLFilter(\n",
    "    0.08, #Series inductance lf in pu\n",
    "    0.003, #Series resitance rf in pu\n",
    "    0.074, #Shunt capacitance cf in pu\n",
    "    0.2, #Series ractance rg to grid connection (#Step up transformer or similar)\n",
    "    0.01,\n",
    ") #Series resistance lg to grid connection (#Step up transformer or similar)\n",
    "dc_source = PSY.FixedDCSource(2440.0)\n",
    "conv_droop = PSY.AvgCnvFixedDC(\n",
    "    2440.0, #Rated Voltage\n",
    "    100.0,\n",
    ") #Rated MVA"
   ]
  },
  {
   "cell_type": "code",
   "execution_count": 9,
   "metadata": {},
   "outputs": [
    {
     "data": {
      "text/plain": [
       "2-element Array{PowerSystems.Bus,1}:\n",
       " PowerSystems.Bus(1, \"Bus 1\", PowerSystems.BusTypes.REF, 0.0, 1.05, (min = 0.94, max = 1.06), 69.0, nothing, nothing, Dict{String,Any}(), InfrastructureSystems.InfrastructureSystemsInternal(UUID(\"7b9225a3-63b3-4ffa-9ff9-93608988158e\"), nothing))\n",
       " PowerSystems.Bus(2, \"Bus 2\", PowerSystems.BusTypes.PV, 0.0, 1.0, (min = 0.94, max = 1.06), 69.0, nothing, nothing, Dict{String,Any}(), InfrastructureSystems.InfrastructureSystemsInternal(UUID(\"0f986873-2cb4-445a-8f77-8a498a126e32\"), nothing))  "
      ]
     },
     "execution_count": 9,
     "metadata": {},
     "output_type": "execute_result"
    }
   ],
   "source": [
    "## System\n",
    "nodes = [\n",
    "    PSY.Bus(\n",
    "        1, #number\n",
    "        \"Bus 1\", #Name\n",
    "        \"REF\", #BusType (REF, PV, PQ)\n",
    "        0, #Angle in radians\n",
    "        1.05, #Voltage in pu\n",
    "        (min = 0.94, max = 1.06), #Voltage limits in pu\n",
    "        69, #Base voltage in kV\n",
    "        nothing,\n",
    "        nothing,\n",
    "    ),\n",
    "    PSY.Bus(2, \"Bus 2\", \"PV\", 0, 1.0, (min = 0.94, max = 1.06), 69, nothing, nothing),\n",
    "]"
   ]
  },
  {
   "cell_type": "code",
   "execution_count": 10,
   "metadata": {},
   "outputs": [
    {
     "data": {
      "text/plain": [
       "1-element Array{PowerSystems.Line,1}:\n",
       " PowerSystems.Line(\"Line1\", true, 0.0, 0.0, PowerSystems.Arc(PowerSystems.Bus(1, \"Bus 1\", PowerSystems.BusTypes.REF, 0.0, 1.05, (min = 0.94, max = 1.06), 69.0, nothing, nothing, Dict{String,Any}(), InfrastructureSystems.InfrastructureSystemsInternal(UUID(\"7b9225a3-63b3-4ffa-9ff9-93608988158e\"), nothing)), PowerSystems.Bus(2, \"Bus 2\", PowerSystems.BusTypes.PV, 0.0, 1.0, (min = 0.94, max = 1.06), 69.0, nothing, nothing, Dict{String,Any}(), InfrastructureSystems.InfrastructureSystemsInternal(UUID(\"0f986873-2cb4-445a-8f77-8a498a126e32\"), nothing)), InfrastructureSystems.InfrastructureSystemsInternal(UUID(\"83eb0560-00cd-456c-b5c1-020d5ccd5e97\"), nothing)), 0.01, 0.05, (from = 0.0, to = 0.0), 18.046, (min = -1.04, max = 1.04), PowerSystems.Service[], Dict{String,Any}(), InfrastructureSystems.Forecasts(Dict{InfrastructureSystems.ForecastKey,InfrastructureSystems.ForecastInternal}(), nothing), InfrastructureSystems.InfrastructureSystemsInternal(UUID(\"e25a85db-4bc4-4206-ae06-8dd3e4311c11\"), nothing))"
      ]
     },
     "execution_count": 10,
     "metadata": {},
     "output_type": "execute_result"
    }
   ],
   "source": [
    "branches = [PSY.Line(\n",
    "    \"Line1\", #name\n",
    "    true, #available\n",
    "    0.0, #active power flow initial condition (from-to)\n",
    "    0.0, #reactive power flow initial condition (from-to)\n",
    "    PSY.Arc(from = nodes[1], to = nodes[2]), #Connection between buses\n",
    "    0.01, #resistance in pu\n",
    "    0.05, #reactance in pu\n",
    "    (from = 0.0, to = 0.0), #susceptance in pu\n",
    "    18.046, #rate in MW\n",
    "    1.04,\n",
    ")]  #angle limits (-min and max)"
   ]
  },
  {
   "cell_type": "code",
   "execution_count": 11,
   "metadata": {},
   "outputs": [
    {
     "data": {
      "text/plain": [
       "InfBus (PowerSystems.Source):\n",
       "   name: InfBus\n",
       "   available: true\n",
       "   bus: PowerSystems.Bus(1, \"Bus 1\", PowerSystems.BusTypes.REF, 0.0, 1.05, (min = 0.94, max = 1.06), 69.0, nothing, nothing, Dict{String,Any}(), InfrastructureSystems.InfrastructureSystemsInternal(UUID(\"7b9225a3-63b3-4ffa-9ff9-93608988158e\"), nothing))\n",
       "   V_R: 1.05\n",
       "   V_I: 0.0\n",
       "   X_th: 5.0e-6\n",
       "   services: PowerSystems.Service[]\n",
       "   ext: Dict{String,Any}()"
      ]
     },
     "execution_count": 11,
     "metadata": {},
     "output_type": "execute_result"
    }
   ],
   "source": [
    "inf_source = PSY.Source(\n",
    "    \"InfBus\", #name\n",
    "    true, #availability\n",
    "    nodes[1], #bus\n",
    "    1.05, #VR\n",
    "    0.0, #VI\n",
    "    0.000005,\n",
    ") #Xth"
   ]
  },
  {
   "cell_type": "code",
   "execution_count": 12,
   "metadata": {},
   "outputs": [
    {
     "data": {
      "text/plain": [
       "inv_droop (PowerSystems.DynamicInverter{PowerSystems.AvgCnvFixedDC,PowerSystems.VirtualInertiaQdroop{PowerDroop,Virtual_PI_AVR},PI_VoltageCurrent,PowerSystems.FixedDCSource,NoPLL,PowerSystems.LCLFilter}):\n",
       "   number: 1\n",
       "   name: inv_droop\n",
       "   bus: PowerSystems.Bus(2, \"Bus 2\", PowerSystems.BusTypes.PV, 0.0, 1.0, (min = 0.94, max = 1.06), 69.0, nothing, nothing, Dict{String,Any}(), InfrastructureSystems.InfrastructureSystemsInternal(UUID(\"0f986873-2cb4-445a-8f77-8a498a126e32\"), nothing))\n",
       "   ω_ref: 1.0\n",
       "   V_ref: 1.0\n",
       "   P_ref: 0.5\n",
       "   Q_ref: 0.0\n",
       "   MVABase: 100.0\n",
       "   converter: PowerSystems.AvgCnvFixedDC(2440.0, 100.0, Dict{String,Any}(), Symbol[], 0, InfrastructureSystems.InfrastructureSystemsInternal(UUID(\"9f0f8160-a4f9-4489-90a0-bb7985449e68\"), nothing))\n",
       "   outercontrol: PowerSystems.VirtualInertiaQdroop{PowerDroop,Virtual_PI_AVR}(PowerDroop(2.0, 1, Symbol[:δθ_vsm], Dict{String,Any}()), Virtual_PI_AVR(0.001, 0.0001, 1, Symbol[:x_avr], Dict{String,Any}()), Dict{String,Any}(), Symbol[:δθ_vsm, :x_avr], 2, InfrastructureSystems.InfrastructureSystemsInternal(UUID(\"521fa1c7-f7c3-4e9e-bf33-ad80a611af3d\"), nothing))\n",
       "   vscontrol: PI_VoltageCurrent(0.59, 232.0, 0.0, 0.73, 0.0059, 0.0, 4, Symbol[:ξ_d, :ξ_q, :γ_d, :γ_q], Dict{String,Any}())\n",
       "   dc_source: PowerSystems.FixedDCSource(2440.0, Dict{String,Any}(), Symbol[], 0, InfrastructureSystems.InfrastructureSystemsInternal(UUID(\"cd7bb97a-ecc6-4369-8739-9031513d730d\"), nothing))\n",
       "   freq_estimator: NoPLL(1.0, 0, Symbol[], Dict{String,Any}())\n",
       "   filter: PowerSystems.LCLFilter(0.08, 0.003, 0.074, 0.2, 0.01, Dict{String,Any}(), Symbol[:id_c, :iq_c, :vd_cap, :vq_cap, :id_o, :iq_o], 6, InfrastructureSystems.InfrastructureSystemsInternal(UUID(\"1e964d76-821b-4887-b0d8-8fdfb4638b79\"), nothing))\n",
       "   n_states: 12\n",
       "   states: Symbol[:δθ_vsm, :x_avr, :ξ_d, :ξ_q, :γ_d, :γ_q, :id_c, :iq_c, :vd_cap, :vq_cap, :id_o, :iq_o]\n",
       "   ext: Dict{String,Any}()"
      ]
     },
     "execution_count": 12,
     "metadata": {},
     "output_type": "execute_result"
    }
   ],
   "source": [
    "inv_droop = PSY.DynamicInverter(\n",
    "        1, #Number\n",
    "        \"inv_droop\", #name\n",
    "        nodes[2], #bus\n",
    "        1.0, # ω_ref,\n",
    "        1.00, #V_ref\n",
    "        0.5, #P_ref\n",
    "        0.0, #Q_ref\n",
    "        100.0, #MVABase\n",
    "        conv_droop, #converter\n",
    "        outerloop, #outer control\n",
    "        innerloop, #inner control voltage source\n",
    "        dc_source, #dc source\n",
    "        nopll, #pll\n",
    "        filter_test,\n",
    "    ) #filter"
   ]
  },
  {
   "cell_type": "markdown",
   "metadata": {},
   "source": [
    "## Models"
   ]
  },
  {
   "cell_type": "code",
   "execution_count": 13,
   "metadata": {},
   "outputs": [],
   "source": [
    "##NoPLL\n",
    "function LITS.mdl_freq_estimator_ode!(\n",
    "    device_states,\n",
    "    output_ode,\n",
    "    f0,\n",
    "    ω_sys,\n",
    "    device::PSY.DynamicInverter{C, O, VC, DC, NoPLL, F},\n",
    ") where {\n",
    "    C <: PSY.Converter,\n",
    "    O <: PSY.OuterControl,\n",
    "    VC <: PSY.VSControl,\n",
    "    DC <: PSY.DCSource,\n",
    "    F <: PSY.Filter,\n",
    "}\n",
    "    pll_control = PSY.get_freq_estimator(device)\n",
    "    ω0 = get_ω0(pll_control)\n",
    "    \n",
    "end"
   ]
  },
  {
   "cell_type": "code",
   "execution_count": 27,
   "metadata": {},
   "outputs": [],
   "source": [
    "## Inner Control\n",
    "function LITS.mdl_VScontrol_ode!(\n",
    "    device_states,\n",
    "    output_ode,\n",
    "    device::PSY.DynamicInverter{C, O, PI_VoltageCurrent, DC, P, F},\n",
    ") where {\n",
    "    C <: PSY.Converter,\n",
    "    O <: PSY.OuterControl,\n",
    "    DC <: PSY.DCSource,\n",
    "    P <: PSY.FrequencyEstimator,\n",
    "    F <: PSY.Filter,\n",
    "}\n",
    "    #Obtain external states for component\n",
    "    external_ix = LITS.get_input_port_ix(device, PI_VoltageCurrent)\n",
    "    Id_o = device_states[external_ix[1]]\n",
    "    Iq_o = device_states[external_ix[2]] \n",
    "    Id_cnv = device_states[external_ix[3]]\n",
    "    Iq_cnv = device_states[external_ix[4]]\n",
    "    Vd_o = device_states[external_ix[5]]\n",
    "    Vq_o = device_states[external_ix[6]]\n",
    "    \n",
    "    #Obtain inner variables for component\n",
    "    ω_olc = LITS.get_inner_vars(device)[LITS.ω_control_var]\n",
    "    V_olc_ref = LITS.get_inner_vars(device)[LITS.v_control_var]\n",
    "    Vdc = LITS.get_inner_vars(device)[LITS.Vdc_var]\n",
    "    \n",
    "    #Get Voltage Controller parameters\n",
    "    vscontrol = PSY.get_vscontrol(device)\n",
    "    filter = PSY.get_filter(device)\n",
    "    kpv = PSY.get_kpv(vscontrol)\n",
    "    kiv = PSY.get_kiv(vscontrol)\n",
    "    kffv = PSY.get_kffv(vscontrol)\n",
    "    cf = PSY.get_cf(filter)\n",
    "    \n",
    "    #Get Current Controller Parameters\n",
    "    kpc = PSY.get_kpc(vscontrol)\n",
    "    kic = PSY.get_kic(vscontrol)\n",
    "    kffi = PSY.get_kffi(vscontrol)\n",
    "    lf = PSY.get_lf(filter)\n",
    "    #rf = PSY.get_rf(filter) We can generalize if the filter have R or not.\n",
    "    \n",
    "    #Obtain indices for component w/r to device\n",
    "    local_ix = LITS.get_local_state_ix(device, PI_VoltageCurrent)\n",
    "    \n",
    "    #Define internal states for inner control\n",
    "    internal_states = @view device_states[local_ix]\n",
    "    ξ_d = internal_states[1]\n",
    "    ξ_q = internal_states[2]\n",
    "    γ_d = internal_states[3]\n",
    "    γ_q = internal_states[4]\n",
    "    \n",
    "    #Inputs to Voltage Controller (control signals)\n",
    "    Vd_ref = V_olc_ref #Create Inner var for references in both d and q.\n",
    "    Vq_ref = 0 #TODO: Create Inner var for references in both d and q.\n",
    "    \n",
    "    #Voltage Control ODES\n",
    "    #PI Integrator (internal state)\n",
    "    output_ode[local_ix[1]] = (Vd_ref - Vd_o)\n",
    "    output_ode[local_ix[2]] = (Vq_ref - Vq_o)\n",
    "    \n",
    "    #Inputs to Current Controller (control signals)\n",
    "    Id_vc_ref = kpv * (Vd_ref - Vd_o) + kiv * ξ_d + kffi * (Id_o - cf * ω_olc * Vq_o) \n",
    "    Iq_vc_ref = kpv * (Vq_ref - Vq_o) + kiv * ξ_q + kffi * (Iq_o + cf * ω_olc * Vd_o)\n",
    "    \n",
    "    #Current Control ODEs\n",
    "    #PI Integrator (internal state)\n",
    "    output_ode[local_ix[3]] = Id_vc_ref - Id_cnv\n",
    "    output_ode[local_ix[4]] = Iq_vc_ref - Iq_cnv\n",
    "    \n",
    "    #Voltage reference to converter\n",
    "    Vd_cc_ref = kpc * (Id_vc_ref - Id_cnv) + kic * γ_d + kffv * (Vd_o - lf * ω_olc * Iq_cnv)\n",
    "    Vq_cc_ref = kpc * (Iq_vc_ref - Iq_cnv) + kic * γ_q + kffv * (Vq_o + lf * ω_olc * Id_cnv)\n",
    "    \n",
    "    #Update inner_vars\n",
    "    LITS.get_inner_vars(device)[LITS.md_var] = Vd_cc_ref / Vdc\n",
    "    LITS.get_inner_vars(device)[LITS.mq_var] = Vq_cc_ref / Vdc\n",
    "end"
   ]
  },
  {
   "cell_type": "code",
   "execution_count": 40,
   "metadata": {},
   "outputs": [],
   "source": [
    "## Outer Loop\n",
    "function LITS.mdl_outer_ode!(\n",
    "    device_states,\n",
    "    output_ode,\n",
    "    f0,\n",
    "    ω_sys,\n",
    "    device::PSY.DynamicInverter{\n",
    "        C,\n",
    "        PSY.VirtualInertiaQdroop{PowerDroop, Virtual_PI_AVR},\n",
    "        VC,\n",
    "        DC,\n",
    "        P,\n",
    "        F,\n",
    "    },\n",
    ") where {\n",
    "    C <: PSY.Converter,\n",
    "    VC <: PSY.VSControl,\n",
    "    DC <: PSY.DCSource,\n",
    "    P <: PSY.FrequencyEstimator,\n",
    "    F <: PSY.Filter,\n",
    "}\n",
    "    \n",
    "    #Obtain external states inputs for component\n",
    "    external_ix = LITS.get_input_port_ix(\n",
    "        device,\n",
    "        PSY.VirtualInertiaQdroop{PowerDroop, Virtual_PI_AVR},\n",
    "    )   \n",
    "    Vd_o = device_states[external_ix[1]]\n",
    "    Vq_o = device_states[external_ix[2]]\n",
    "    Id_o = device_states[external_ix[3]]\n",
    "    Iq_o = device_states[external_ix[4]]\n",
    "    #Problem when some states are not defined? Since Outer has a lot of state_ports that may not exist.\n",
    "    \n",
    "    #Get Active Power Controller parameters\n",
    "    outer_control = PSY.get_outercontrol(device)\n",
    "    active_power_control = PSY.get_active_power(outer_control)\n",
    "    d_ω = get_d_ω(active_power_control)\n",
    "    \n",
    "    #Get Reactive Power Controller parameters\n",
    "    reactive_power_control = PSY.get_reactive_power(outer_control)\n",
    "    kp_avr = get_kp_avr(reactive_power_control)\n",
    "    ki_avr = get_ki_avr(reactive_power_control)\n",
    "    \n",
    "    #Obtain external parameters\n",
    "    p_ref = PSY.get_ext(device)[LITS.CONTROL_REFS][LITS.P_ref_index]\n",
    "    ω_ref = PSY.get_ext(device)[LITS.CONTROL_REFS][LITS.ω_ref_index]\n",
    "    V_ref = PSY.get_ext(device)[LITS.CONTROL_REFS][LITS.V_ref_index]\n",
    "    \n",
    "    #Obtain inner vars\n",
    "    V_tR = LITS.get_inner_vars(device)[LITS.VR_inv_var]\n",
    "    V_tI = LITS.get_inner_vars(device)[LITS.VI_inv_var]\n",
    "    \n",
    "    #Compute electric variables\n",
    "    Pe = (Vd_o * Id_o + Vq_o * Iq_o) #No Resistance in output.\n",
    "    #Vo_mag = sqrt(V_tR^2 + V_tI^2)\n",
    "    Vo_mag = sqrt(Vd_o^2 + Vq_o^2)\n",
    "    ω_olc = ω_ref + d_ω * (p_ref - Pe)\n",
    "    \n",
    "    #Obtain indices for component w/r to device\n",
    "    local_ix = LITS.get_local_state_ix(\n",
    "        device,\n",
    "        PSY.VirtualInertiaQdroop{PowerDroop, Virtual_PI_AVR},\n",
    "    )\n",
    "    \n",
    "    #Define internal states for outer loop control\n",
    "    internal_states = @view device_states[local_ix]\n",
    "    θ_olc = internal_states[1]\n",
    "    x_avr = internal_states[2]\n",
    "    \n",
    "    #Compute ODEs for Active Power Droop\n",
    "    output_ode[local_ix[1]] = 2 * π * f0 * (ω_olc - ω_sys)\n",
    "    \n",
    "    #Compute ODEs for Virtual AVR\n",
    "    output_ode[local_ix[2]] = V_ref - Vo_mag\n",
    "    \n",
    "    #Update Inner Vars\n",
    "    LITS.get_inner_vars(device)[LITS.ω_control_var] = ω_olc\n",
    "    LITS.get_inner_vars(device)[LITS.v_control_var] = kp_avr * (V_ref - Vo_mag) + ki_avr * x_avr\n",
    "end"
   ]
  },
  {
   "cell_type": "code",
   "execution_count": 16,
   "metadata": {},
   "outputs": [
    {
     "data": {
      "text/html": [
       "<h1>System</h1>\n",
       "<p><b>Base Power</b>: 100.0</p>\n",
       "<h2>Components</h2>\n",
       "<p><b>Num components</b>: 0</p>\n",
       "<table class=\"data-frame\"><thead><tr><th></th></tr><tr><th></th></tr></thead><tbody><p>0 rows × 0 columns</p></tbody></table>\n",
       "\n",
       "<h2>Forecasts</h2>\n",
       "<p><b>Resolution</b>: 0 seconds</p>\n",
       "<p><b>Horizon</b>: 0</p>\n",
       "<p><b>Initial Times</b>: </p>\n",
       "<p><b>Interval</b>: 0 seconds</p>\n",
       "<p><b>Components with Forecasts</b>: 0</p>\n",
       "<p><b>Total Forecasts</b>: 0</p>\n"
      ],
      "text/plain": [
       "System\n",
       "======\n",
       "Base Power: 100.0\n",
       "\n",
       "Components\n",
       "==========\n",
       "Num components: 0\n",
       "\n",
       "0×0 DataFrames.DataFrame\n",
       "\n",
       "\n",
       "Forecasts\n",
       "=========\n",
       "Resolution: 0 seconds\n",
       "Horizon: 0\n",
       "Initial Times: \n",
       "Interval: 0 seconds\n",
       "Components with Forecasts: 0\n",
       "Total Forecasts: 0\n"
      ]
     },
     "execution_count": 16,
     "metadata": {},
     "output_type": "execute_result"
    }
   ],
   "source": [
    "sys = PSY.System(100.0, frequency = 50.0)"
   ]
  },
  {
   "cell_type": "code",
   "execution_count": 17,
   "metadata": {},
   "outputs": [],
   "source": [
    "for bus in nodes\n",
    "    PSY.add_component!(sys, bus)\n",
    "end"
   ]
  },
  {
   "cell_type": "code",
   "execution_count": 18,
   "metadata": {},
   "outputs": [],
   "source": [
    "for lines in branches\n",
    "    PSY.add_component!(sys, lines)\n",
    "end"
   ]
  },
  {
   "cell_type": "code",
   "execution_count": 19,
   "metadata": {},
   "outputs": [],
   "source": [
    "PSY.add_component!(sys, inf_source)"
   ]
  },
  {
   "cell_type": "code",
   "execution_count": 20,
   "metadata": {},
   "outputs": [
    {
     "name": "stderr",
     "output_type": "stream",
     "text": [
      "┌ Warning: struct DynamicInverter does not exist in validation configuration file, validation skipped\n",
      "└ @ InfrastructureSystems /Users/rhenriquez/.julia/packages/InfrastructureSystems/qvTbP/src/validation.jl:42\n"
     ]
    }
   ],
   "source": [
    "PSY.add_component!(sys, inv_droop)"
   ]
  },
  {
   "cell_type": "code",
   "execution_count": 21,
   "metadata": {},
   "outputs": [
    {
     "data": {
      "text/html": [
       "<h1>System</h1>\n",
       "<p><b>Base Power</b>: 100.0</p>\n",
       "<h2>Components</h2>\n",
       "<p><b>Num components</b>: 5</p>\n",
       "<table class=\"data-frame\"><thead><tr><th></th><th>ConcreteType</th><th>SuperTypes</th></tr><tr><th></th><th>String</th><th>String</th></tr></thead><tbody><p>4 rows × 3 columns (omitted printing of 1 columns)</p><tr><th>1</th><td>Bus</td><td>Topology &lt;: Component &lt;: PowerSystemType &lt;: InfrastructureSystemsType &lt;: Any</td></tr><tr><th>2</th><td>DynamicInverter{PowerSystems.AvgCnvFixedDC,PowerSystems.VirtualInertiaQdroop{PowerDroop,Virtual_PI_AVR},PI_VoltageCurrent,PowerSystems.FixedDCSource,NoPLL,PowerSystems.LCLFilter}</td><td>DynamicInjection &lt;: Device &lt;: Component &lt;: PowerSystemType &lt;: InfrastructureSystemsType &lt;: Any</td></tr><tr><th>3</th><td>Line</td><td>ACBranch &lt;: Branch &lt;: Device &lt;: Component &lt;: PowerSystemType &lt;: InfrastructureSystemsType &lt;: Any</td></tr><tr><th>4</th><td>Source</td><td>StaticInjection &lt;: Device &lt;: Component &lt;: PowerSystemType &lt;: InfrastructureSystemsType &lt;: Any</td></tr></tbody></table>\n",
       "\n",
       "<h2>Forecasts</h2>\n",
       "<p><b>Resolution</b>: 0 seconds</p>\n",
       "<p><b>Horizon</b>: 0</p>\n",
       "<p><b>Initial Times</b>: </p>\n",
       "<p><b>Interval</b>: 0 seconds</p>\n",
       "<p><b>Components with Forecasts</b>: 0</p>\n",
       "<p><b>Total Forecasts</b>: 0</p>\n"
      ],
      "text/plain": [
       "System\n",
       "======\n",
       "Base Power: 100.0\n",
       "\n",
       "Components\n",
       "==========\n",
       "Num components: 5\n",
       "\n",
       "4×3 DataFrames.DataFrame. Omitted printing of 3 columns\n",
       "│ Row │ │     │ ├─────┼\n",
       "│ 1   │ │ 2   │ │ 3   │ │ 4   │ \n",
       "\n",
       "Forecasts\n",
       "=========\n",
       "Resolution: 0 seconds\n",
       "Horizon: 0\n",
       "Initial Times: \n",
       "Interval: 0 seconds\n",
       "Components with Forecasts: 0\n",
       "Total Forecasts: 0\n"
      ]
     },
     "execution_count": 21,
     "metadata": {},
     "output_type": "execute_result"
    }
   ],
   "source": [
    "sys"
   ]
  },
  {
   "cell_type": "code",
   "execution_count": 22,
   "metadata": {},
   "outputs": [
    {
     "data": {
      "text/plain": [
       "1-element Array{PowerSystems.Line,1}:\n",
       " PowerSystems.Line(\"Line1\", true, 0.0, 0.0, PowerSystems.Arc(PowerSystems.Bus(1, \"Bus 1\", PowerSystems.BusTypes.REF, 0.0, 1.05, (min = 0.94, max = 1.06), 69.0, nothing, nothing, Dict{String,Any}(), InfrastructureSystems.InfrastructureSystemsInternal(UUID(\"7b9225a3-63b3-4ffa-9ff9-93608988158e\"), nothing)), PowerSystems.Bus(2, \"Bus 2\", PowerSystems.BusTypes.PV, 0.0, 1.0, (min = 0.94, max = 1.06), 69.0, nothing, nothing, Dict{String,Any}(), InfrastructureSystems.InfrastructureSystemsInternal(UUID(\"0f986873-2cb4-445a-8f77-8a498a126e32\"), nothing)), InfrastructureSystems.InfrastructureSystemsInternal(UUID(\"e5f66a07-e51a-48d8-a145-f4e476dc1248\"), nothing)), 0.02, 0.1, (from = 0.0, to = 0.0), 18.046, (min = -1.04, max = 1.04), PowerSystems.Service[], Dict{String,Any}(), InfrastructureSystems.Forecasts(Dict{InfrastructureSystems.ForecastKey,InfrastructureSystems.ForecastInternal}(), nothing), InfrastructureSystems.InfrastructureSystemsInternal(UUID(\"1aa7f1fd-c304-4312-b1e7-3dd4fd2d90f3\"), nothing))"
      ]
     },
     "execution_count": 22,
     "metadata": {},
     "output_type": "execute_result"
    }
   ],
   "source": [
    "branches_fault = [PSY.Line(\n",
    "    \"Line1\", #name\n",
    "    true, #available\n",
    "    0.0, #active power flow initial condition (from-to)\n",
    "    0.0, #reactive power flow initial condition (from-to)\n",
    "    PSY.Arc(from = nodes[1], to = nodes[2]), #Connection between buses\n",
    "    0.02, #resistance in pu\n",
    "    0.1, #reactance in pu\n",
    "    (from = 0.0, to = 0.0), #susceptance in pu\n",
    "    18.046, #rate in MW\n",
    "    1.04,\n",
    ")]"
   ]
  },
  {
   "cell_type": "code",
   "execution_count": 23,
   "metadata": {},
   "outputs": [
    {
     "data": {
      "text/plain": [
       "inv_droop (PowerSystems.DynamicInverter{PowerSystems.AvgCnvFixedDC,PowerSystems.VirtualInertiaQdroop{PowerDroop,Virtual_PI_AVR},PI_VoltageCurrent,PowerSystems.FixedDCSource,NoPLL,PowerSystems.LCLFilter}):\n",
       "   number: 1\n",
       "   name: inv_droop\n",
       "   bus: PowerSystems.Bus(2, \"Bus 2\", PowerSystems.BusTypes.PV, 0.0, 1.0, (min = 0.94, max = 1.06), 69.0, nothing, nothing, Dict{String,Any}(), InfrastructureSystems.InfrastructureSystemsInternal(UUID(\"0f986873-2cb4-445a-8f77-8a498a126e32\"), nothing))\n",
       "   ω_ref: 1.0\n",
       "   V_ref: 1.0\n",
       "   P_ref: 0.5\n",
       "   Q_ref: 0.0\n",
       "   MVABase: 100.0\n",
       "   converter: PowerSystems.AvgCnvFixedDC(2440.0, 100.0, Dict{String,Any}(), Symbol[], 0, InfrastructureSystems.InfrastructureSystemsInternal(UUID(\"9f0f8160-a4f9-4489-90a0-bb7985449e68\"), nothing))\n",
       "   outercontrol: PowerSystems.VirtualInertiaQdroop{PowerDroop,Virtual_PI_AVR}(PowerDroop(2.0, 1, Symbol[:δθ_vsm], Dict{String,Any}()), Virtual_PI_AVR(0.001, 0.0001, 1, Symbol[:x_avr], Dict{String,Any}()), Dict{String,Any}(), Symbol[:δθ_vsm, :x_avr], 2, InfrastructureSystems.InfrastructureSystemsInternal(UUID(\"521fa1c7-f7c3-4e9e-bf33-ad80a611af3d\"), nothing))\n",
       "   vscontrol: PI_VoltageCurrent(0.59, 232.0, 0.0, 0.73, 0.0059, 0.0, 4, Symbol[:ξ_d, :ξ_q, :γ_d, :γ_q], Dict{String,Any}())\n",
       "   dc_source: PowerSystems.FixedDCSource(2440.0, Dict{String,Any}(), Symbol[], 0, InfrastructureSystems.InfrastructureSystemsInternal(UUID(\"cd7bb97a-ecc6-4369-8739-9031513d730d\"), nothing))\n",
       "   freq_estimator: NoPLL(1.0, 0, Symbol[], Dict{String,Any}())\n",
       "   filter: PowerSystems.LCLFilter(0.08, 0.003, 0.074, 0.2, 0.01, Dict{String,Any}(), Symbol[:id_c, :iq_c, :vd_cap, :vq_cap, :id_o, :iq_o], 6, InfrastructureSystems.InfrastructureSystemsInternal(UUID(\"1e964d76-821b-4887-b0d8-8fdfb4638b79\"), nothing))\n",
       "   n_states: 12\n",
       "   states: Symbol[:δθ_vsm, :x_avr, :ξ_d, :ξ_q, :γ_d, :γ_q, :id_c, :iq_c, :vd_cap, :vq_cap, :id_o, :iq_o]\n",
       "   ext: Dict{String,Any}()"
      ]
     },
     "execution_count": 23,
     "metadata": {},
     "output_type": "execute_result"
    }
   ],
   "source": [
    "inv_droop"
   ]
  },
  {
   "cell_type": "code",
   "execution_count": 24,
   "metadata": {},
   "outputs": [
    {
     "data": {
      "text/plain": [
       "ThreePhaseFault(1.0, \n",
       "  [1, 1]  =  1.92308-9.61538im\n",
       "  [2, 1]  =  -1.92308+9.61538im\n",
       "  [1, 2]  =  -1.92308+9.61538im\n",
       "  [2, 2]  =  1.92308-9.61538im)"
      ]
     },
     "execution_count": 24,
     "metadata": {},
     "output_type": "execute_result"
    }
   ],
   "source": [
    "Ybus_fault = PSY.Ybus(branches_fault, nodes)[:,:]\n",
    "Ybus_change = ThreePhaseFault(\n",
    "    1.0, #change at t = 1.0\n",
    "    Ybus_fault,\n",
    ") #New YBus"
   ]
  },
  {
   "cell_type": "code",
   "execution_count": 25,
   "metadata": {},
   "outputs": [
    {
     "data": {
      "text/plain": [
       "16-element Array{Float64,1}:\n",
       "  1.0   \n",
       "  1.0   \n",
       "  0.0   \n",
       "  0.0   \n",
       "  0.1   \n",
       "  0.0   \n",
       "  0.0015\n",
       " -0.08  \n",
       "  0.05  \n",
       " -0.001 \n",
       "  0.5   \n",
       "  0.0   \n",
       "  0.95  \n",
       " -0.1   \n",
       "  0.49  \n",
       " -0.1   "
      ]
     },
     "execution_count": 25,
     "metadata": {},
     "output_type": "execute_result"
    }
   ],
   "source": [
    "tspan = (0.0, 30.0)\n",
    "x0_guess = [\n",
    "    1.0, #V1_R\n",
    "    1.0, #V2_R\n",
    "    0.0, #V1_I\n",
    "    0.0, #V2_I\n",
    "    0.1, #θ\n",
    "    0.0, #x_avr\n",
    "    0.0015, #ξ_d \n",
    "    -0.08, #ξ_q\n",
    "    0.05, #γ_d\n",
    "    -0.001, #γ_q\n",
    "    0.5, #id_cnv\n",
    "    0.0, #iq_cnv\n",
    "    0.95, #Vd_o\n",
    "    -0.1, #Vq_o\n",
    "    0.49, #Id_o\n",
    "    -0.1, #Iq_o\n",
    "    ]"
   ]
  },
  {
   "cell_type": "code",
   "execution_count": 41,
   "metadata": {},
   "outputs": [
    {
     "name": "stderr",
     "output_type": "stream",
     "text": [
      "┌ Info: Initializing Simulation States\n",
      "└ @ LITS /Users/rhenriquez/.julia/dev/LITS/src/base/simulation.jl:32\n"
     ]
    },
    {
     "data": {
      "text/plain": [
       "Simulation()\n"
      ]
     },
     "execution_count": 41,
     "metadata": {},
     "output_type": "execute_result"
    }
   ],
   "source": [
    "sim = LITS.Simulation(sys, tspan, Ybus_change, initial_guess = x0_guess)"
   ]
  },
  {
   "cell_type": "code",
   "execution_count": 42,
   "metadata": {},
   "outputs": [
    {
     "data": {
      "text/plain": [
       "16-element Array{Float64,1}:\n",
       "     1.0499970899127102   \n",
       "     0.9782601390584762   \n",
       "    -2.1318038978137983e-5\n",
       "    -0.20738153324076636  \n",
       "    -0.1981271044960856   \n",
       " 18615.797086923147       \n",
       "     0.0011577115950125103\n",
       "    -0.01791811290260903  \n",
       "   372.02468668387587     \n",
       "     1.5281560378332726   \n",
       "     0.2685890900429024   \n",
       "    -4.157002193405295    \n",
       "     1.8615797086923147   \n",
       "    -7.493879100095944e-29\n",
       "     0.2685890900429024   \n",
       "    -4.294759091848526    "
      ]
     },
     "execution_count": 42,
     "metadata": {},
     "output_type": "execute_result"
    }
   ],
   "source": [
    "sim.x0_init"
   ]
  },
  {
   "cell_type": "code",
   "execution_count": 43,
   "metadata": {},
   "outputs": [
    {
     "name": "stdout",
     "output_type": "stream",
     "text": [
      "Differential States\n",
      "inv_droop\n",
      "====================\n",
      "iq_o -4.294759091848526\n",
      "δθ_vsm -0.1981271044960856\n",
      "id_o 0.2685890900429024\n",
      "ξ_q -0.01791811290260903\n",
      "x_avr 18615.797086923147\n",
      "vd_cap 1.8615797086923147\n",
      "ξ_d 0.0011577115950125103\n",
      "iq_c -4.157002193405295\n",
      "γ_q 1.5281560378332726\n",
      "γ_d 372.02468668387587\n",
      "id_c 0.2685890900429024\n",
      "vq_cap -7.493879100095944e-29\n",
      "====================\n"
     ]
    }
   ],
   "source": [
    "LITS.print_init_states(sim)"
   ]
  },
  {
   "cell_type": "code",
   "execution_count": 44,
   "metadata": {},
   "outputs": [
    {
     "data": {
      "text/plain": [
       "The system is not small signal stable\n"
      ]
     },
     "execution_count": 44,
     "metadata": {},
     "output_type": "execute_result"
    }
   ],
   "source": [
    "small_sig = small_signal_analysis(sim)"
   ]
  },
  {
   "cell_type": "code",
   "execution_count": null,
   "metadata": {},
   "outputs": [],
   "source": []
  }
 ],
 "metadata": {
  "kernelspec": {
   "display_name": "Julia 1.3.1",
   "language": "julia",
   "name": "julia-1.3"
  },
  "language_info": {
   "file_extension": ".jl",
   "mimetype": "application/julia",
   "name": "julia",
   "version": "1.3.1"
  }
 },
 "nbformat": 4,
 "nbformat_minor": 2
}
